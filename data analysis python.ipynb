{
 "cells": [
  {
   "cell_type": "markdown",
   "metadata": {
    "id": "tgPonQkuRdma"
   },
   "source": [
    "***Done by CED19I049***\n",
    "\n",
    "---\n",
    "\n",
    "\n",
    "<p><b>Dataset Link</b> : https://archive.ics.uci.edu/ml/datasets/Movie</p>\n",
    "<p><b>Dataset Info : </b>The data is stored in relational form across several files. The central file (MAIN) is a list of movies, each with a unique identifier. These identifiers may change in successive versions. The actors (CAST) for those movies are listed with their roles in a distinct file. More information about individual actors (ACTORS) is in a third file. All directors in MAIN are listed in a fourth file (PEOPLE), with a number of important producers, writers, and cinematographers. A fifth file (REMAKES) links movies that were copied to a substantial extent from each other. The sixth file (STUDIOS) provides some information about studios shown in MAIN.</p>\n",
    "<p><b>Subset chosen : </b>I took <i style= color:blue;>actors.html</i> as my dataset from the data folder.</p>\n"
   ]
  },
  {
   "cell_type": "code",
   "execution_count": 97,
   "metadata": {
    "id": "o10L3GpWeA-C"
   },
   "outputs": [],
   "source": [
    "# Importing the necessary libraries\n",
    "import pandas as pd\n",
    "import numpy as np\n",
    "import matplotlib.pyplot as plt\n",
    "from unicodedata import normalize\n",
    "import seaborn as sns\n",
    "import datetime"
   ]
  },
  {
   "cell_type": "code",
   "execution_count": 98,
   "metadata": {
    "id": "m-Sz_veflnfl"
   },
   "outputs": [],
   "source": [
    "# Reading the data from the HTML file\n",
    "actors_table_MN = pd.read_html('https://archive.ics.uci.edu/ml/machine-learning-databases/movies-mld/data/actors.html')"
   ]
  },
  {
   "cell_type": "markdown",
   "metadata": {
    "id": "cA__pnZhNGHZ"
   },
   "source": [
    "* The dataset is of HTML type. So first using read_html() all the html content is loaded into actors_table_MN."
   ]
  },
  {
   "cell_type": "code",
   "execution_count": 99,
   "metadata": {
    "colab": {
     "base_uri": "https://localhost:8080/"
    },
    "id": "wU1LBB4UlRag",
    "outputId": "e90c160c-4999-431b-a720-f6d1b1518373"
   },
   "outputs": [
    {
     "name": "stdout",
     "output_type": "stream",
     "text": [
      "Total tables: 27\n"
     ]
    }
   ],
   "source": [
    "print(f'Total tables: {len(actors_table_MN)}')"
   ]
  },
  {
   "cell_type": "markdown",
   "metadata": {
    "id": "3l69Hg1JNor5"
   },
   "source": [
    "* We can see there are 27 HTML tables in actors.html, So Im combing all HTML tables into a single table"
   ]
  },
  {
   "cell_type": "code",
   "execution_count": 100,
   "metadata": {
    "id": "hcp5q_qsxAlU"
   },
   "outputs": [],
   "source": [
    "# Merging all HTML tables\n",
    "actors_df = pd.concat(actors_table_MN)"
   ]
  },
  {
   "cell_type": "code",
   "execution_count": 101,
   "metadata": {
    "id": "zn7NA47TzJFk"
   },
   "outputs": [],
   "source": [
    "# resetting the index of new dataframe\n",
    "actors_df = actors_df.reset_index(drop=True)"
   ]
  },
  {
   "cell_type": "code",
   "execution_count": 102,
   "metadata": {
    "colab": {
     "base_uri": "https://localhost:8080/"
    },
    "id": "_GXAuRAoOT4K",
    "outputId": "0cb782b7-bef1-4563-c492-2f8adb82c065"
   },
   "outputs": [
    {
     "data": {
      "text/plain": [
       "(6643, 25)"
      ]
     },
     "execution_count": 102,
     "metadata": {},
     "output_type": "execute_result"
    }
   ],
   "source": [
    "# dimensions of our dataset\n",
    "actors_df.shape"
   ]
  },
  {
   "cell_type": "code",
   "execution_count": 103,
   "metadata": {
    "colab": {
     "base_uri": "https://localhost:8080/",
     "height": 713
    },
    "id": "8CFBSfaJxZqJ",
    "outputId": "176acb3b-e32b-4933-f842-99479d49500a"
   },
   "outputs": [
    {
     "data": {
      "text/html": [
       "\n",
       "  <div id=\"df-782cd31b-f6db-43cc-b5a0-8f4d848363de\">\n",
       "    <div class=\"colab-df-container\">\n",
       "      <div>\n",
       "<style scoped>\n",
       "    .dataframe tbody tr th:only-of-type {\n",
       "        vertical-align: middle;\n",
       "    }\n",
       "\n",
       "    .dataframe tbody tr th {\n",
       "        vertical-align: top;\n",
       "    }\n",
       "\n",
       "    .dataframe thead th {\n",
       "        text-align: right;\n",
       "    }\n",
       "</style>\n",
       "<table border=\"1\" class=\"dataframe\">\n",
       "  <thead>\n",
       "    <tr style=\"text-align: right;\">\n",
       "      <th></th>\n",
       "      <th>stage</th>\n",
       "      <th>dow</th>\n",
       "      <th>birth</th>\n",
       "      <th>giv</th>\n",
       "      <th>gen</th>\n",
       "      <th>dob</th>\n",
       "      <th>dod</th>\n",
       "      <th>type</th>\n",
       "      <th>orig</th>\n",
       "      <th>pict</th>\n",
       "      <th>...</th>\n",
       "      <th>Unnamed: 15</th>\n",
       "      <th>Unnamed: 16</th>\n",
       "      <th>Unnamed: 17</th>\n",
       "      <th>Unnamed: 18</th>\n",
       "      <th>Unnamed: 19</th>\n",
       "      <th>Unnamed: 20</th>\n",
       "      <th>Unnamed: 21</th>\n",
       "      <th>Unnamed: 22</th>\n",
       "      <th>Unnamed: 23</th>\n",
       "      <th>Unnamed: 24</th>\n",
       "    </tr>\n",
       "  </thead>\n",
       "  <tbody>\n",
       "    <tr>\n",
       "      <th>0</th>\n",
       "      <td>Willie Aames</td>\n",
       "      <td>NaN</td>\n",
       "      <td>Aames</td>\n",
       "      <td>William</td>\n",
       "      <td>M</td>\n",
       "      <td>1960</td>\n",
       "      <td>199x</td>\n",
       "      <td>RU:</td>\n",
       "      <td>\\Am</td>\n",
       "      <td>NaN</td>\n",
       "      <td>...</td>\n",
       "      <td>NaN</td>\n",
       "      <td>NaN</td>\n",
       "      <td>NaN</td>\n",
       "      <td>NaN</td>\n",
       "      <td>NaN</td>\n",
       "      <td>NaN</td>\n",
       "      <td>NaN</td>\n",
       "      <td>NaN</td>\n",
       "      <td>NaN</td>\n",
       "      <td>NaN</td>\n",
       "    </tr>\n",
       "    <tr>\n",
       "      <th>1</th>\n",
       "      <td>Bud Abbott</td>\n",
       "      <td>1939-1956</td>\n",
       "      <td>Abbott</td>\n",
       "      <td>William</td>\n",
       "      <td>M</td>\n",
       "      <td>1895</td>\n",
       "      <td>1974</td>\n",
       "      <td>R:straight</td>\n",
       "      <td>comedian</td>\n",
       "      <td>\\Am</td>\n",
       "      <td>...</td>\n",
       "      <td>NaN</td>\n",
       "      <td>NaN</td>\n",
       "      <td>NaN</td>\n",
       "      <td>NaN</td>\n",
       "      <td>NaN</td>\n",
       "      <td>NaN</td>\n",
       "      <td>NaN</td>\n",
       "      <td>NaN</td>\n",
       "      <td>NaN</td>\n",
       "      <td>NaN</td>\n",
       "    </tr>\n",
       "    <tr>\n",
       "      <th>2</th>\n",
       "      <td>Diahnne Abbott</td>\n",
       "      <td>1976-1982</td>\n",
       "      <td>NaN</td>\n",
       "      <td>NaN</td>\n",
       "      <td>F</td>\n",
       "      <td>[1][23]</td>\n",
       "      <td>199x</td>\n",
       "      <td>R:sexy</td>\n",
       "      <td>\\Am</td>\n",
       "      <td>NaN</td>\n",
       "      <td>...</td>\n",
       "      <td>NaN</td>\n",
       "      <td>NaN</td>\n",
       "      <td>NaN</td>\n",
       "      <td>NaN</td>\n",
       "      <td>NaN</td>\n",
       "      <td>NaN</td>\n",
       "      <td>NaN</td>\n",
       "      <td>NaN</td>\n",
       "      <td>NaN</td>\n",
       "      <td>NaN</td>\n",
       "    </tr>\n",
       "    <tr>\n",
       "      <th>3</th>\n",
       "      <td>George Abbott</td>\n",
       "      <td>1928-1958</td>\n",
       "      <td>Abbott</td>\n",
       "      <td>George</td>\n",
       "      <td>M</td>\n",
       "      <td>1887</td>\n",
       "      <td>199x</td>\n",
       "      <td>R:playwright, producer</td>\n",
       "      <td>\\Am</td>\n",
       "      <td>NaN</td>\n",
       "      <td>...</td>\n",
       "      <td>NaN</td>\n",
       "      <td>NaN</td>\n",
       "      <td>NaN</td>\n",
       "      <td>NaN</td>\n",
       "      <td>NaN</td>\n",
       "      <td>NaN</td>\n",
       "      <td>NaN</td>\n",
       "      <td>NaN</td>\n",
       "      <td>NaN</td>\n",
       "      <td>NaN</td>\n",
       "    </tr>\n",
       "    <tr>\n",
       "      <th>4</th>\n",
       "      <td>John Abbott</td>\n",
       "      <td>1937-1975</td>\n",
       "      <td>Abbott</td>\n",
       "      <td>John</td>\n",
       "      <td>M</td>\n",
       "      <td>1905</td>\n",
       "      <td>199x</td>\n",
       "      <td>R:staring eyes, eccentric parts</td>\n",
       "      <td>\\Br</td>\n",
       "      <td>NaN</td>\n",
       "      <td>...</td>\n",
       "      <td>NaN</td>\n",
       "      <td>NaN</td>\n",
       "      <td>NaN</td>\n",
       "      <td>NaN</td>\n",
       "      <td>NaN</td>\n",
       "      <td>NaN</td>\n",
       "      <td>NaN</td>\n",
       "      <td>NaN</td>\n",
       "      <td>NaN</td>\n",
       "      <td>NaN</td>\n",
       "    </tr>\n",
       "    <tr>\n",
       "      <th>...</th>\n",
       "      <td>...</td>\n",
       "      <td>...</td>\n",
       "      <td>...</td>\n",
       "      <td>...</td>\n",
       "      <td>...</td>\n",
       "      <td>...</td>\n",
       "      <td>...</td>\n",
       "      <td>...</td>\n",
       "      <td>...</td>\n",
       "      <td>...</td>\n",
       "      <td>...</td>\n",
       "      <td>...</td>\n",
       "      <td>...</td>\n",
       "      <td>...</td>\n",
       "      <td>...</td>\n",
       "      <td>...</td>\n",
       "      <td>...</td>\n",
       "      <td>...</td>\n",
       "      <td>...</td>\n",
       "      <td>...</td>\n",
       "      <td>...</td>\n",
       "    </tr>\n",
       "    <tr>\n",
       "      <th>6638</th>\n",
       "      <td>David Zucker</td>\n",
       "      <td>NaN</td>\n",
       "      <td>NaN</td>\n",
       "      <td>NaN</td>\n",
       "      <td>M</td>\n",
       "      <td>[1]</td>\n",
       "      <td>199x</td>\n",
       "      <td>RU:</td>\n",
       "      <td>\\Un</td>\n",
       "      <td>NaN</td>\n",
       "      <td>...</td>\n",
       "      <td>NaN</td>\n",
       "      <td>NaN</td>\n",
       "      <td>NaN</td>\n",
       "      <td>NaN</td>\n",
       "      <td>NaN</td>\n",
       "      <td>NaN</td>\n",
       "      <td>NaN</td>\n",
       "      <td>NaN</td>\n",
       "      <td>NaN</td>\n",
       "      <td>NaN</td>\n",
       "    </tr>\n",
       "    <tr>\n",
       "      <th>6639</th>\n",
       "      <td>Jerry Zucker</td>\n",
       "      <td>NaN</td>\n",
       "      <td>NaN</td>\n",
       "      <td>NaN</td>\n",
       "      <td>M</td>\n",
       "      <td>[1]</td>\n",
       "      <td>199x</td>\n",
       "      <td>RU:</td>\n",
       "      <td>\\Un</td>\n",
       "      <td>NaN</td>\n",
       "      <td>...</td>\n",
       "      <td>NaN</td>\n",
       "      <td>NaN</td>\n",
       "      <td>NaN</td>\n",
       "      <td>NaN</td>\n",
       "      <td>NaN</td>\n",
       "      <td>NaN</td>\n",
       "      <td>NaN</td>\n",
       "      <td>NaN</td>\n",
       "      <td>NaN</td>\n",
       "      <td>NaN</td>\n",
       "    </tr>\n",
       "    <tr>\n",
       "      <th>6640</th>\n",
       "      <td>Daphne Zuniga</td>\n",
       "      <td>NaN</td>\n",
       "      <td>NaN</td>\n",
       "      <td>NaN</td>\n",
       "      <td>F</td>\n",
       "      <td>[1]</td>\n",
       "      <td>199x</td>\n",
       "      <td>RU:</td>\n",
       "      <td>\\Un</td>\n",
       "      <td>NaN</td>\n",
       "      <td>...</td>\n",
       "      <td>NaN</td>\n",
       "      <td>NaN</td>\n",
       "      <td>NaN</td>\n",
       "      <td>NaN</td>\n",
       "      <td>NaN</td>\n",
       "      <td>NaN</td>\n",
       "      <td>NaN</td>\n",
       "      <td>NaN</td>\n",
       "      <td>NaN</td>\n",
       "      <td>NaN</td>\n",
       "    </tr>\n",
       "    <tr>\n",
       "      <th>6641</th>\n",
       "      <td>Frantisek Zvarik</td>\n",
       "      <td>NaN</td>\n",
       "      <td>NaN</td>\n",
       "      <td>NaN</td>\n",
       "      <td>M</td>\n",
       "      <td>[1]</td>\n",
       "      <td>199x</td>\n",
       "      <td>RU:</td>\n",
       "      <td>\\Un</td>\n",
       "      <td>NaN</td>\n",
       "      <td>...</td>\n",
       "      <td>NaN</td>\n",
       "      <td>NaN</td>\n",
       "      <td>NaN</td>\n",
       "      <td>NaN</td>\n",
       "      <td>NaN</td>\n",
       "      <td>NaN</td>\n",
       "      <td>NaN</td>\n",
       "      <td>NaN</td>\n",
       "      <td>NaN</td>\n",
       "      <td>NaN</td>\n",
       "    </tr>\n",
       "    <tr>\n",
       "      <th>6642</th>\n",
       "      <td>Darrell Zwerling</td>\n",
       "      <td>NaN</td>\n",
       "      <td>NaN</td>\n",
       "      <td>NaN</td>\n",
       "      <td>M</td>\n",
       "      <td>[1]</td>\n",
       "      <td>199x</td>\n",
       "      <td>RU:</td>\n",
       "      <td>\\Un</td>\n",
       "      <td>NaN</td>\n",
       "      <td>...</td>\n",
       "      <td>NaN</td>\n",
       "      <td>NaN</td>\n",
       "      <td>NaN</td>\n",
       "      <td>NaN</td>\n",
       "      <td>NaN</td>\n",
       "      <td>NaN</td>\n",
       "      <td>NaN</td>\n",
       "      <td>NaN</td>\n",
       "      <td>NaN</td>\n",
       "      <td>NaN</td>\n",
       "    </tr>\n",
       "  </tbody>\n",
       "</table>\n",
       "<p>6643 rows × 25 columns</p>\n",
       "</div>\n",
       "      <button class=\"colab-df-convert\" onclick=\"convertToInteractive('df-782cd31b-f6db-43cc-b5a0-8f4d848363de')\"\n",
       "              title=\"Convert this dataframe to an interactive table.\"\n",
       "              style=\"display:none;\">\n",
       "        \n",
       "  <svg xmlns=\"http://www.w3.org/2000/svg\" height=\"24px\"viewBox=\"0 0 24 24\"\n",
       "       width=\"24px\">\n",
       "    <path d=\"M0 0h24v24H0V0z\" fill=\"none\"/>\n",
       "    <path d=\"M18.56 5.44l.94 2.06.94-2.06 2.06-.94-2.06-.94-.94-2.06-.94 2.06-2.06.94zm-11 1L8.5 8.5l.94-2.06 2.06-.94-2.06-.94L8.5 2.5l-.94 2.06-2.06.94zm10 10l.94 2.06.94-2.06 2.06-.94-2.06-.94-.94-2.06-.94 2.06-2.06.94z\"/><path d=\"M17.41 7.96l-1.37-1.37c-.4-.4-.92-.59-1.43-.59-.52 0-1.04.2-1.43.59L10.3 9.45l-7.72 7.72c-.78.78-.78 2.05 0 2.83L4 21.41c.39.39.9.59 1.41.59.51 0 1.02-.2 1.41-.59l7.78-7.78 2.81-2.81c.8-.78.8-2.07 0-2.86zM5.41 20L4 18.59l7.72-7.72 1.47 1.35L5.41 20z\"/>\n",
       "  </svg>\n",
       "      </button>\n",
       "      \n",
       "  <style>\n",
       "    .colab-df-container {\n",
       "      display:flex;\n",
       "      flex-wrap:wrap;\n",
       "      gap: 12px;\n",
       "    }\n",
       "\n",
       "    .colab-df-convert {\n",
       "      background-color: #E8F0FE;\n",
       "      border: none;\n",
       "      border-radius: 50%;\n",
       "      cursor: pointer;\n",
       "      display: none;\n",
       "      fill: #1967D2;\n",
       "      height: 32px;\n",
       "      padding: 0 0 0 0;\n",
       "      width: 32px;\n",
       "    }\n",
       "\n",
       "    .colab-df-convert:hover {\n",
       "      background-color: #E2EBFA;\n",
       "      box-shadow: 0px 1px 2px rgba(60, 64, 67, 0.3), 0px 1px 3px 1px rgba(60, 64, 67, 0.15);\n",
       "      fill: #174EA6;\n",
       "    }\n",
       "\n",
       "    [theme=dark] .colab-df-convert {\n",
       "      background-color: #3B4455;\n",
       "      fill: #D2E3FC;\n",
       "    }\n",
       "\n",
       "    [theme=dark] .colab-df-convert:hover {\n",
       "      background-color: #434B5C;\n",
       "      box-shadow: 0px 1px 3px 1px rgba(0, 0, 0, 0.15);\n",
       "      filter: drop-shadow(0px 1px 2px rgba(0, 0, 0, 0.3));\n",
       "      fill: #FFFFFF;\n",
       "    }\n",
       "  </style>\n",
       "\n",
       "      <script>\n",
       "        const buttonEl =\n",
       "          document.querySelector('#df-782cd31b-f6db-43cc-b5a0-8f4d848363de button.colab-df-convert');\n",
       "        buttonEl.style.display =\n",
       "          google.colab.kernel.accessAllowed ? 'block' : 'none';\n",
       "\n",
       "        async function convertToInteractive(key) {\n",
       "          const element = document.querySelector('#df-782cd31b-f6db-43cc-b5a0-8f4d848363de');\n",
       "          const dataTable =\n",
       "            await google.colab.kernel.invokeFunction('convertToInteractive',\n",
       "                                                     [key], {});\n",
       "          if (!dataTable) return;\n",
       "\n",
       "          const docLinkHtml = 'Like what you see? Visit the ' +\n",
       "            '<a target=\"_blank\" href=https://colab.research.google.com/notebooks/data_table.ipynb>data table notebook</a>'\n",
       "            + ' to learn more about interactive tables.';\n",
       "          element.innerHTML = '';\n",
       "          dataTable['output_type'] = 'display_data';\n",
       "          await google.colab.output.renderOutput(dataTable, element);\n",
       "          const docLink = document.createElement('div');\n",
       "          docLink.innerHTML = docLinkHtml;\n",
       "          element.appendChild(docLink);\n",
       "        }\n",
       "      </script>\n",
       "    </div>\n",
       "  </div>\n",
       "  "
      ],
      "text/plain": [
       "                 stage        dow   birth      giv gen      dob   dod  \\\n",
       "0         Willie Aames        NaN   Aames  William   M     1960  199x   \n",
       "1           Bud Abbott  1939-1956  Abbott  William   M     1895  1974   \n",
       "2       Diahnne Abbott  1976-1982     NaN      NaN   F  [1][23]  199x   \n",
       "3        George Abbott  1928-1958  Abbott   George   M     1887  199x   \n",
       "4          John Abbott  1937-1975  Abbott     John   M     1905  199x   \n",
       "...                ...        ...     ...      ...  ..      ...   ...   \n",
       "6638      David Zucker        NaN     NaN      NaN   M      [1]  199x   \n",
       "6639      Jerry Zucker        NaN     NaN      NaN   M      [1]  199x   \n",
       "6640     Daphne Zuniga        NaN     NaN      NaN   F      [1]  199x   \n",
       "6641  Frantisek Zvarik        NaN     NaN      NaN   M      [1]  199x   \n",
       "6642  Darrell Zwerling        NaN     NaN      NaN   M      [1]  199x   \n",
       "\n",
       "                                 type      orig pict  ... Unnamed: 15  \\\n",
       "0                                 RU:       \\Am  NaN  ...         NaN   \n",
       "1                          R:straight  comedian  \\Am  ...         NaN   \n",
       "2                              R:sexy       \\Am  NaN  ...         NaN   \n",
       "3              R:playwright, producer       \\Am  NaN  ...         NaN   \n",
       "4     R:staring eyes, eccentric parts       \\Br  NaN  ...         NaN   \n",
       "...                               ...       ...  ...  ...         ...   \n",
       "6638                              RU:       \\Un  NaN  ...         NaN   \n",
       "6639                              RU:       \\Un  NaN  ...         NaN   \n",
       "6640                              RU:       \\Un  NaN  ...         NaN   \n",
       "6641                              RU:       \\Un  NaN  ...         NaN   \n",
       "6642                              RU:       \\Un  NaN  ...         NaN   \n",
       "\n",
       "     Unnamed: 16 Unnamed: 17 Unnamed: 18 Unnamed: 19 Unnamed: 20 Unnamed: 21  \\\n",
       "0            NaN         NaN         NaN         NaN         NaN         NaN   \n",
       "1            NaN         NaN         NaN         NaN         NaN         NaN   \n",
       "2            NaN         NaN         NaN         NaN         NaN         NaN   \n",
       "3            NaN         NaN         NaN         NaN         NaN         NaN   \n",
       "4            NaN         NaN         NaN         NaN         NaN         NaN   \n",
       "...          ...         ...         ...         ...         ...         ...   \n",
       "6638         NaN         NaN         NaN         NaN         NaN         NaN   \n",
       "6639         NaN         NaN         NaN         NaN         NaN         NaN   \n",
       "6640         NaN         NaN         NaN         NaN         NaN         NaN   \n",
       "6641         NaN         NaN         NaN         NaN         NaN         NaN   \n",
       "6642         NaN         NaN         NaN         NaN         NaN         NaN   \n",
       "\n",
       "     Unnamed: 22 Unnamed: 23 Unnamed: 24  \n",
       "0            NaN         NaN         NaN  \n",
       "1            NaN         NaN         NaN  \n",
       "2            NaN         NaN         NaN  \n",
       "3            NaN         NaN         NaN  \n",
       "4            NaN         NaN         NaN  \n",
       "...          ...         ...         ...  \n",
       "6638         NaN         NaN         NaN  \n",
       "6639         NaN         NaN         NaN  \n",
       "6640         NaN         NaN         NaN  \n",
       "6641         NaN         NaN         NaN  \n",
       "6642         NaN         NaN         NaN  \n",
       "\n",
       "[6643 rows x 25 columns]"
      ]
     },
     "execution_count": 103,
     "metadata": {},
     "output_type": "execute_result"
    }
   ],
   "source": [
    "# checking the resultant dataframe\n",
    "actors_df"
   ]
  },
  {
   "cell_type": "markdown",
   "metadata": {
    "id": "FzFty7ZBWuBt"
   },
   "source": [
    "<hr>\n",
    "<h3>Data Cleaning</h3><br>\n",
    "* We can see there are many Unamed Columns containing Nan values,\n",
    "So Im dropping these columns as part of data cleaning \n"
   ]
  },
  {
   "cell_type": "code",
   "execution_count": 104,
   "metadata": {
    "id": "3Dkm1eFnzugR"
   },
   "outputs": [],
   "source": [
    "actors_df = actors_df.drop(actors_df.columns[actors_df.columns.str.contains('Unnamed', case=False)], axis=1)"
   ]
  },
  {
   "cell_type": "code",
   "execution_count": 105,
   "metadata": {
    "colab": {
     "base_uri": "https://localhost:8080/",
     "height": 423
    },
    "id": "TEPWEAIozwZg",
    "outputId": "52ac4264-a7de-466f-b9c9-ba0540b7d008"
   },
   "outputs": [
    {
     "data": {
      "text/html": [
       "\n",
       "  <div id=\"df-0f337c68-dfb1-4535-9bd1-a32f05f908e2\">\n",
       "    <div class=\"colab-df-container\">\n",
       "      <div>\n",
       "<style scoped>\n",
       "    .dataframe tbody tr th:only-of-type {\n",
       "        vertical-align: middle;\n",
       "    }\n",
       "\n",
       "    .dataframe tbody tr th {\n",
       "        vertical-align: top;\n",
       "    }\n",
       "\n",
       "    .dataframe thead th {\n",
       "        text-align: right;\n",
       "    }\n",
       "</style>\n",
       "<table border=\"1\" class=\"dataframe\">\n",
       "  <thead>\n",
       "    <tr style=\"text-align: right;\">\n",
       "      <th></th>\n",
       "      <th>stage</th>\n",
       "      <th>dow</th>\n",
       "      <th>birth</th>\n",
       "      <th>giv</th>\n",
       "      <th>gen</th>\n",
       "      <th>dob</th>\n",
       "      <th>dod</th>\n",
       "      <th>type</th>\n",
       "      <th>orig</th>\n",
       "      <th>pict</th>\n",
       "      <th>notes</th>\n",
       "      <th>|</th>\n",
       "    </tr>\n",
       "  </thead>\n",
       "  <tbody>\n",
       "    <tr>\n",
       "      <th>0</th>\n",
       "      <td>Willie Aames</td>\n",
       "      <td>NaN</td>\n",
       "      <td>Aames</td>\n",
       "      <td>William</td>\n",
       "      <td>M</td>\n",
       "      <td>1960</td>\n",
       "      <td>199x</td>\n",
       "      <td>RU:</td>\n",
       "      <td>\\Am</td>\n",
       "      <td>NaN</td>\n",
       "      <td>NaN</td>\n",
       "      <td>|</td>\n",
       "    </tr>\n",
       "    <tr>\n",
       "      <th>1</th>\n",
       "      <td>Bud Abbott</td>\n",
       "      <td>1939-1956</td>\n",
       "      <td>Abbott</td>\n",
       "      <td>William</td>\n",
       "      <td>M</td>\n",
       "      <td>1895</td>\n",
       "      <td>1974</td>\n",
       "      <td>R:straight</td>\n",
       "      <td>comedian</td>\n",
       "      <td>\\Am</td>\n",
       "      <td>NaN</td>\n",
       "      <td>Ww(Lou Costello) St(Universal)</td>\n",
       "    </tr>\n",
       "    <tr>\n",
       "      <th>2</th>\n",
       "      <td>Diahnne Abbott</td>\n",
       "      <td>1976-1982</td>\n",
       "      <td>NaN</td>\n",
       "      <td>NaN</td>\n",
       "      <td>F</td>\n",
       "      <td>[1][23]</td>\n",
       "      <td>199x</td>\n",
       "      <td>R:sexy</td>\n",
       "      <td>\\Am</td>\n",
       "      <td>NaN</td>\n",
       "      <td>Cit(2) Mt(Robert deNiro;)</td>\n",
       "      <td>|</td>\n",
       "    </tr>\n",
       "    <tr>\n",
       "      <th>3</th>\n",
       "      <td>George Abbott</td>\n",
       "      <td>1928-1958</td>\n",
       "      <td>Abbott</td>\n",
       "      <td>George</td>\n",
       "      <td>M</td>\n",
       "      <td>1887</td>\n",
       "      <td>199x</td>\n",
       "      <td>R:playwright, producer</td>\n",
       "      <td>\\Am</td>\n",
       "      <td>NaN</td>\n",
       "      <td>NaN</td>\n",
       "      <td>|</td>\n",
       "    </tr>\n",
       "    <tr>\n",
       "      <th>4</th>\n",
       "      <td>John Abbott</td>\n",
       "      <td>1937-1975</td>\n",
       "      <td>Abbott</td>\n",
       "      <td>John</td>\n",
       "      <td>M</td>\n",
       "      <td>1905</td>\n",
       "      <td>199x</td>\n",
       "      <td>R:staring eyes, eccentric parts</td>\n",
       "      <td>\\Br</td>\n",
       "      <td>NaN</td>\n",
       "      <td>NaN</td>\n",
       "      <td>|</td>\n",
       "    </tr>\n",
       "    <tr>\n",
       "      <th>...</th>\n",
       "      <td>...</td>\n",
       "      <td>...</td>\n",
       "      <td>...</td>\n",
       "      <td>...</td>\n",
       "      <td>...</td>\n",
       "      <td>...</td>\n",
       "      <td>...</td>\n",
       "      <td>...</td>\n",
       "      <td>...</td>\n",
       "      <td>...</td>\n",
       "      <td>...</td>\n",
       "      <td>...</td>\n",
       "    </tr>\n",
       "    <tr>\n",
       "      <th>6638</th>\n",
       "      <td>David Zucker</td>\n",
       "      <td>NaN</td>\n",
       "      <td>NaN</td>\n",
       "      <td>NaN</td>\n",
       "      <td>M</td>\n",
       "      <td>[1]</td>\n",
       "      <td>199x</td>\n",
       "      <td>RU:</td>\n",
       "      <td>\\Un</td>\n",
       "      <td>NaN</td>\n",
       "      <td>Cit(1)</td>\n",
       "      <td>|</td>\n",
       "    </tr>\n",
       "    <tr>\n",
       "      <th>6639</th>\n",
       "      <td>Jerry Zucker</td>\n",
       "      <td>NaN</td>\n",
       "      <td>NaN</td>\n",
       "      <td>NaN</td>\n",
       "      <td>M</td>\n",
       "      <td>[1]</td>\n",
       "      <td>199x</td>\n",
       "      <td>RU:</td>\n",
       "      <td>\\Un</td>\n",
       "      <td>NaN</td>\n",
       "      <td>Cit(1) Also(D)</td>\n",
       "      <td>|</td>\n",
       "    </tr>\n",
       "    <tr>\n",
       "      <th>6640</th>\n",
       "      <td>Daphne Zuniga</td>\n",
       "      <td>NaN</td>\n",
       "      <td>NaN</td>\n",
       "      <td>NaN</td>\n",
       "      <td>F</td>\n",
       "      <td>[1]</td>\n",
       "      <td>199x</td>\n",
       "      <td>RU:</td>\n",
       "      <td>\\Un</td>\n",
       "      <td>NaN</td>\n",
       "      <td>Cit(0)</td>\n",
       "      <td>|</td>\n",
       "    </tr>\n",
       "    <tr>\n",
       "      <th>6641</th>\n",
       "      <td>Frantisek Zvarik</td>\n",
       "      <td>NaN</td>\n",
       "      <td>NaN</td>\n",
       "      <td>NaN</td>\n",
       "      <td>M</td>\n",
       "      <td>[1]</td>\n",
       "      <td>199x</td>\n",
       "      <td>RU:</td>\n",
       "      <td>\\Un</td>\n",
       "      <td>NaN</td>\n",
       "      <td>Cit(1)</td>\n",
       "      <td>|</td>\n",
       "    </tr>\n",
       "    <tr>\n",
       "      <th>6642</th>\n",
       "      <td>Darrell Zwerling</td>\n",
       "      <td>NaN</td>\n",
       "      <td>NaN</td>\n",
       "      <td>NaN</td>\n",
       "      <td>M</td>\n",
       "      <td>[1]</td>\n",
       "      <td>199x</td>\n",
       "      <td>RU:</td>\n",
       "      <td>\\Un</td>\n",
       "      <td>NaN</td>\n",
       "      <td>Cit(1)</td>\n",
       "      <td>|</td>\n",
       "    </tr>\n",
       "  </tbody>\n",
       "</table>\n",
       "<p>6643 rows × 12 columns</p>\n",
       "</div>\n",
       "      <button class=\"colab-df-convert\" onclick=\"convertToInteractive('df-0f337c68-dfb1-4535-9bd1-a32f05f908e2')\"\n",
       "              title=\"Convert this dataframe to an interactive table.\"\n",
       "              style=\"display:none;\">\n",
       "        \n",
       "  <svg xmlns=\"http://www.w3.org/2000/svg\" height=\"24px\"viewBox=\"0 0 24 24\"\n",
       "       width=\"24px\">\n",
       "    <path d=\"M0 0h24v24H0V0z\" fill=\"none\"/>\n",
       "    <path d=\"M18.56 5.44l.94 2.06.94-2.06 2.06-.94-2.06-.94-.94-2.06-.94 2.06-2.06.94zm-11 1L8.5 8.5l.94-2.06 2.06-.94-2.06-.94L8.5 2.5l-.94 2.06-2.06.94zm10 10l.94 2.06.94-2.06 2.06-.94-2.06-.94-.94-2.06-.94 2.06-2.06.94z\"/><path d=\"M17.41 7.96l-1.37-1.37c-.4-.4-.92-.59-1.43-.59-.52 0-1.04.2-1.43.59L10.3 9.45l-7.72 7.72c-.78.78-.78 2.05 0 2.83L4 21.41c.39.39.9.59 1.41.59.51 0 1.02-.2 1.41-.59l7.78-7.78 2.81-2.81c.8-.78.8-2.07 0-2.86zM5.41 20L4 18.59l7.72-7.72 1.47 1.35L5.41 20z\"/>\n",
       "  </svg>\n",
       "      </button>\n",
       "      \n",
       "  <style>\n",
       "    .colab-df-container {\n",
       "      display:flex;\n",
       "      flex-wrap:wrap;\n",
       "      gap: 12px;\n",
       "    }\n",
       "\n",
       "    .colab-df-convert {\n",
       "      background-color: #E8F0FE;\n",
       "      border: none;\n",
       "      border-radius: 50%;\n",
       "      cursor: pointer;\n",
       "      display: none;\n",
       "      fill: #1967D2;\n",
       "      height: 32px;\n",
       "      padding: 0 0 0 0;\n",
       "      width: 32px;\n",
       "    }\n",
       "\n",
       "    .colab-df-convert:hover {\n",
       "      background-color: #E2EBFA;\n",
       "      box-shadow: 0px 1px 2px rgba(60, 64, 67, 0.3), 0px 1px 3px 1px rgba(60, 64, 67, 0.15);\n",
       "      fill: #174EA6;\n",
       "    }\n",
       "\n",
       "    [theme=dark] .colab-df-convert {\n",
       "      background-color: #3B4455;\n",
       "      fill: #D2E3FC;\n",
       "    }\n",
       "\n",
       "    [theme=dark] .colab-df-convert:hover {\n",
       "      background-color: #434B5C;\n",
       "      box-shadow: 0px 1px 3px 1px rgba(0, 0, 0, 0.15);\n",
       "      filter: drop-shadow(0px 1px 2px rgba(0, 0, 0, 0.3));\n",
       "      fill: #FFFFFF;\n",
       "    }\n",
       "  </style>\n",
       "\n",
       "      <script>\n",
       "        const buttonEl =\n",
       "          document.querySelector('#df-0f337c68-dfb1-4535-9bd1-a32f05f908e2 button.colab-df-convert');\n",
       "        buttonEl.style.display =\n",
       "          google.colab.kernel.accessAllowed ? 'block' : 'none';\n",
       "\n",
       "        async function convertToInteractive(key) {\n",
       "          const element = document.querySelector('#df-0f337c68-dfb1-4535-9bd1-a32f05f908e2');\n",
       "          const dataTable =\n",
       "            await google.colab.kernel.invokeFunction('convertToInteractive',\n",
       "                                                     [key], {});\n",
       "          if (!dataTable) return;\n",
       "\n",
       "          const docLinkHtml = 'Like what you see? Visit the ' +\n",
       "            '<a target=\"_blank\" href=https://colab.research.google.com/notebooks/data_table.ipynb>data table notebook</a>'\n",
       "            + ' to learn more about interactive tables.';\n",
       "          element.innerHTML = '';\n",
       "          dataTable['output_type'] = 'display_data';\n",
       "          await google.colab.output.renderOutput(dataTable, element);\n",
       "          const docLink = document.createElement('div');\n",
       "          docLink.innerHTML = docLinkHtml;\n",
       "          element.appendChild(docLink);\n",
       "        }\n",
       "      </script>\n",
       "    </div>\n",
       "  </div>\n",
       "  "
      ],
      "text/plain": [
       "                 stage        dow   birth      giv gen      dob   dod  \\\n",
       "0         Willie Aames        NaN   Aames  William   M     1960  199x   \n",
       "1           Bud Abbott  1939-1956  Abbott  William   M     1895  1974   \n",
       "2       Diahnne Abbott  1976-1982     NaN      NaN   F  [1][23]  199x   \n",
       "3        George Abbott  1928-1958  Abbott   George   M     1887  199x   \n",
       "4          John Abbott  1937-1975  Abbott     John   M     1905  199x   \n",
       "...                ...        ...     ...      ...  ..      ...   ...   \n",
       "6638      David Zucker        NaN     NaN      NaN   M      [1]  199x   \n",
       "6639      Jerry Zucker        NaN     NaN      NaN   M      [1]  199x   \n",
       "6640     Daphne Zuniga        NaN     NaN      NaN   F      [1]  199x   \n",
       "6641  Frantisek Zvarik        NaN     NaN      NaN   M      [1]  199x   \n",
       "6642  Darrell Zwerling        NaN     NaN      NaN   M      [1]  199x   \n",
       "\n",
       "                                 type      orig pict  \\\n",
       "0                                 RU:       \\Am  NaN   \n",
       "1                          R:straight  comedian  \\Am   \n",
       "2                              R:sexy       \\Am  NaN   \n",
       "3              R:playwright, producer       \\Am  NaN   \n",
       "4     R:staring eyes, eccentric parts       \\Br  NaN   \n",
       "...                               ...       ...  ...   \n",
       "6638                              RU:       \\Un  NaN   \n",
       "6639                              RU:       \\Un  NaN   \n",
       "6640                              RU:       \\Un  NaN   \n",
       "6641                              RU:       \\Un  NaN   \n",
       "6642                              RU:       \\Un  NaN   \n",
       "\n",
       "                          notes                               |  \n",
       "0                           NaN                               |  \n",
       "1                           NaN  Ww(Lou Costello) St(Universal)  \n",
       "2     Cit(2) Mt(Robert deNiro;)                               |  \n",
       "3                           NaN                               |  \n",
       "4                           NaN                               |  \n",
       "...                         ...                             ...  \n",
       "6638                     Cit(1)                               |  \n",
       "6639             Cit(1) Also(D)                               |  \n",
       "6640                     Cit(0)                               |  \n",
       "6641                     Cit(1)                               |  \n",
       "6642                     Cit(1)                               |  \n",
       "\n",
       "[6643 rows x 12 columns]"
      ]
     },
     "execution_count": 105,
     "metadata": {},
     "output_type": "execute_result"
    }
   ],
   "source": [
    "actors_df"
   ]
  },
  {
   "cell_type": "markdown",
   "metadata": {
    "id": "ZQSeJ84SXYjK"
   },
   "source": [
    "<p></p>"
   ]
  },
  {
   "cell_type": "markdown",
   "metadata": {
    "id": "zynwQQeZZGge"
   },
   "source": [
    "\n",
    "\n",
    "*   Irrelevant Data\n",
    "   \n",
    "\n"
   ]
  },
  {
   "cell_type": "code",
   "execution_count": 106,
   "metadata": {
    "id": "EPS8IyCPPivp"
   },
   "outputs": [],
   "source": [
    "# Check for irrelevant data and drop column '|'\n",
    "if \"|\" in actors_df.columns:\n",
    "    actors_df.drop(columns=[\"|\"], inplace=True)#"
   ]
  },
  {
   "cell_type": "code",
   "execution_count": 107,
   "metadata": {
    "colab": {
     "base_uri": "https://localhost:8080/",
     "height": 423
    },
    "id": "-rst426JPly-",
    "outputId": "4913ba56-bde0-4079-9a89-875787f13334"
   },
   "outputs": [
    {
     "data": {
      "text/html": [
       "\n",
       "  <div id=\"df-82f139fa-f3d9-46e0-8293-e371be422529\">\n",
       "    <div class=\"colab-df-container\">\n",
       "      <div>\n",
       "<style scoped>\n",
       "    .dataframe tbody tr th:only-of-type {\n",
       "        vertical-align: middle;\n",
       "    }\n",
       "\n",
       "    .dataframe tbody tr th {\n",
       "        vertical-align: top;\n",
       "    }\n",
       "\n",
       "    .dataframe thead th {\n",
       "        text-align: right;\n",
       "    }\n",
       "</style>\n",
       "<table border=\"1\" class=\"dataframe\">\n",
       "  <thead>\n",
       "    <tr style=\"text-align: right;\">\n",
       "      <th></th>\n",
       "      <th>stage</th>\n",
       "      <th>dow</th>\n",
       "      <th>birth</th>\n",
       "      <th>giv</th>\n",
       "      <th>gen</th>\n",
       "      <th>dob</th>\n",
       "      <th>dod</th>\n",
       "      <th>type</th>\n",
       "      <th>orig</th>\n",
       "      <th>pict</th>\n",
       "      <th>notes</th>\n",
       "    </tr>\n",
       "  </thead>\n",
       "  <tbody>\n",
       "    <tr>\n",
       "      <th>0</th>\n",
       "      <td>Willie Aames</td>\n",
       "      <td>NaN</td>\n",
       "      <td>Aames</td>\n",
       "      <td>William</td>\n",
       "      <td>M</td>\n",
       "      <td>1960</td>\n",
       "      <td>199x</td>\n",
       "      <td>RU:</td>\n",
       "      <td>\\Am</td>\n",
       "      <td>NaN</td>\n",
       "      <td>NaN</td>\n",
       "    </tr>\n",
       "    <tr>\n",
       "      <th>1</th>\n",
       "      <td>Bud Abbott</td>\n",
       "      <td>1939-1956</td>\n",
       "      <td>Abbott</td>\n",
       "      <td>William</td>\n",
       "      <td>M</td>\n",
       "      <td>1895</td>\n",
       "      <td>1974</td>\n",
       "      <td>R:straight</td>\n",
       "      <td>comedian</td>\n",
       "      <td>\\Am</td>\n",
       "      <td>NaN</td>\n",
       "    </tr>\n",
       "    <tr>\n",
       "      <th>2</th>\n",
       "      <td>Diahnne Abbott</td>\n",
       "      <td>1976-1982</td>\n",
       "      <td>NaN</td>\n",
       "      <td>NaN</td>\n",
       "      <td>F</td>\n",
       "      <td>[1][23]</td>\n",
       "      <td>199x</td>\n",
       "      <td>R:sexy</td>\n",
       "      <td>\\Am</td>\n",
       "      <td>NaN</td>\n",
       "      <td>Cit(2) Mt(Robert deNiro;)</td>\n",
       "    </tr>\n",
       "    <tr>\n",
       "      <th>3</th>\n",
       "      <td>George Abbott</td>\n",
       "      <td>1928-1958</td>\n",
       "      <td>Abbott</td>\n",
       "      <td>George</td>\n",
       "      <td>M</td>\n",
       "      <td>1887</td>\n",
       "      <td>199x</td>\n",
       "      <td>R:playwright, producer</td>\n",
       "      <td>\\Am</td>\n",
       "      <td>NaN</td>\n",
       "      <td>NaN</td>\n",
       "    </tr>\n",
       "    <tr>\n",
       "      <th>4</th>\n",
       "      <td>John Abbott</td>\n",
       "      <td>1937-1975</td>\n",
       "      <td>Abbott</td>\n",
       "      <td>John</td>\n",
       "      <td>M</td>\n",
       "      <td>1905</td>\n",
       "      <td>199x</td>\n",
       "      <td>R:staring eyes, eccentric parts</td>\n",
       "      <td>\\Br</td>\n",
       "      <td>NaN</td>\n",
       "      <td>NaN</td>\n",
       "    </tr>\n",
       "    <tr>\n",
       "      <th>...</th>\n",
       "      <td>...</td>\n",
       "      <td>...</td>\n",
       "      <td>...</td>\n",
       "      <td>...</td>\n",
       "      <td>...</td>\n",
       "      <td>...</td>\n",
       "      <td>...</td>\n",
       "      <td>...</td>\n",
       "      <td>...</td>\n",
       "      <td>...</td>\n",
       "      <td>...</td>\n",
       "    </tr>\n",
       "    <tr>\n",
       "      <th>6638</th>\n",
       "      <td>David Zucker</td>\n",
       "      <td>NaN</td>\n",
       "      <td>NaN</td>\n",
       "      <td>NaN</td>\n",
       "      <td>M</td>\n",
       "      <td>[1]</td>\n",
       "      <td>199x</td>\n",
       "      <td>RU:</td>\n",
       "      <td>\\Un</td>\n",
       "      <td>NaN</td>\n",
       "      <td>Cit(1)</td>\n",
       "    </tr>\n",
       "    <tr>\n",
       "      <th>6639</th>\n",
       "      <td>Jerry Zucker</td>\n",
       "      <td>NaN</td>\n",
       "      <td>NaN</td>\n",
       "      <td>NaN</td>\n",
       "      <td>M</td>\n",
       "      <td>[1]</td>\n",
       "      <td>199x</td>\n",
       "      <td>RU:</td>\n",
       "      <td>\\Un</td>\n",
       "      <td>NaN</td>\n",
       "      <td>Cit(1) Also(D)</td>\n",
       "    </tr>\n",
       "    <tr>\n",
       "      <th>6640</th>\n",
       "      <td>Daphne Zuniga</td>\n",
       "      <td>NaN</td>\n",
       "      <td>NaN</td>\n",
       "      <td>NaN</td>\n",
       "      <td>F</td>\n",
       "      <td>[1]</td>\n",
       "      <td>199x</td>\n",
       "      <td>RU:</td>\n",
       "      <td>\\Un</td>\n",
       "      <td>NaN</td>\n",
       "      <td>Cit(0)</td>\n",
       "    </tr>\n",
       "    <tr>\n",
       "      <th>6641</th>\n",
       "      <td>Frantisek Zvarik</td>\n",
       "      <td>NaN</td>\n",
       "      <td>NaN</td>\n",
       "      <td>NaN</td>\n",
       "      <td>M</td>\n",
       "      <td>[1]</td>\n",
       "      <td>199x</td>\n",
       "      <td>RU:</td>\n",
       "      <td>\\Un</td>\n",
       "      <td>NaN</td>\n",
       "      <td>Cit(1)</td>\n",
       "    </tr>\n",
       "    <tr>\n",
       "      <th>6642</th>\n",
       "      <td>Darrell Zwerling</td>\n",
       "      <td>NaN</td>\n",
       "      <td>NaN</td>\n",
       "      <td>NaN</td>\n",
       "      <td>M</td>\n",
       "      <td>[1]</td>\n",
       "      <td>199x</td>\n",
       "      <td>RU:</td>\n",
       "      <td>\\Un</td>\n",
       "      <td>NaN</td>\n",
       "      <td>Cit(1)</td>\n",
       "    </tr>\n",
       "  </tbody>\n",
       "</table>\n",
       "<p>6643 rows × 11 columns</p>\n",
       "</div>\n",
       "      <button class=\"colab-df-convert\" onclick=\"convertToInteractive('df-82f139fa-f3d9-46e0-8293-e371be422529')\"\n",
       "              title=\"Convert this dataframe to an interactive table.\"\n",
       "              style=\"display:none;\">\n",
       "        \n",
       "  <svg xmlns=\"http://www.w3.org/2000/svg\" height=\"24px\"viewBox=\"0 0 24 24\"\n",
       "       width=\"24px\">\n",
       "    <path d=\"M0 0h24v24H0V0z\" fill=\"none\"/>\n",
       "    <path d=\"M18.56 5.44l.94 2.06.94-2.06 2.06-.94-2.06-.94-.94-2.06-.94 2.06-2.06.94zm-11 1L8.5 8.5l.94-2.06 2.06-.94-2.06-.94L8.5 2.5l-.94 2.06-2.06.94zm10 10l.94 2.06.94-2.06 2.06-.94-2.06-.94-.94-2.06-.94 2.06-2.06.94z\"/><path d=\"M17.41 7.96l-1.37-1.37c-.4-.4-.92-.59-1.43-.59-.52 0-1.04.2-1.43.59L10.3 9.45l-7.72 7.72c-.78.78-.78 2.05 0 2.83L4 21.41c.39.39.9.59 1.41.59.51 0 1.02-.2 1.41-.59l7.78-7.78 2.81-2.81c.8-.78.8-2.07 0-2.86zM5.41 20L4 18.59l7.72-7.72 1.47 1.35L5.41 20z\"/>\n",
       "  </svg>\n",
       "      </button>\n",
       "      \n",
       "  <style>\n",
       "    .colab-df-container {\n",
       "      display:flex;\n",
       "      flex-wrap:wrap;\n",
       "      gap: 12px;\n",
       "    }\n",
       "\n",
       "    .colab-df-convert {\n",
       "      background-color: #E8F0FE;\n",
       "      border: none;\n",
       "      border-radius: 50%;\n",
       "      cursor: pointer;\n",
       "      display: none;\n",
       "      fill: #1967D2;\n",
       "      height: 32px;\n",
       "      padding: 0 0 0 0;\n",
       "      width: 32px;\n",
       "    }\n",
       "\n",
       "    .colab-df-convert:hover {\n",
       "      background-color: #E2EBFA;\n",
       "      box-shadow: 0px 1px 2px rgba(60, 64, 67, 0.3), 0px 1px 3px 1px rgba(60, 64, 67, 0.15);\n",
       "      fill: #174EA6;\n",
       "    }\n",
       "\n",
       "    [theme=dark] .colab-df-convert {\n",
       "      background-color: #3B4455;\n",
       "      fill: #D2E3FC;\n",
       "    }\n",
       "\n",
       "    [theme=dark] .colab-df-convert:hover {\n",
       "      background-color: #434B5C;\n",
       "      box-shadow: 0px 1px 3px 1px rgba(0, 0, 0, 0.15);\n",
       "      filter: drop-shadow(0px 1px 2px rgba(0, 0, 0, 0.3));\n",
       "      fill: #FFFFFF;\n",
       "    }\n",
       "  </style>\n",
       "\n",
       "      <script>\n",
       "        const buttonEl =\n",
       "          document.querySelector('#df-82f139fa-f3d9-46e0-8293-e371be422529 button.colab-df-convert');\n",
       "        buttonEl.style.display =\n",
       "          google.colab.kernel.accessAllowed ? 'block' : 'none';\n",
       "\n",
       "        async function convertToInteractive(key) {\n",
       "          const element = document.querySelector('#df-82f139fa-f3d9-46e0-8293-e371be422529');\n",
       "          const dataTable =\n",
       "            await google.colab.kernel.invokeFunction('convertToInteractive',\n",
       "                                                     [key], {});\n",
       "          if (!dataTable) return;\n",
       "\n",
       "          const docLinkHtml = 'Like what you see? Visit the ' +\n",
       "            '<a target=\"_blank\" href=https://colab.research.google.com/notebooks/data_table.ipynb>data table notebook</a>'\n",
       "            + ' to learn more about interactive tables.';\n",
       "          element.innerHTML = '';\n",
       "          dataTable['output_type'] = 'display_data';\n",
       "          await google.colab.output.renderOutput(dataTable, element);\n",
       "          const docLink = document.createElement('div');\n",
       "          docLink.innerHTML = docLinkHtml;\n",
       "          element.appendChild(docLink);\n",
       "        }\n",
       "      </script>\n",
       "    </div>\n",
       "  </div>\n",
       "  "
      ],
      "text/plain": [
       "                 stage        dow   birth      giv gen      dob   dod  \\\n",
       "0         Willie Aames        NaN   Aames  William   M     1960  199x   \n",
       "1           Bud Abbott  1939-1956  Abbott  William   M     1895  1974   \n",
       "2       Diahnne Abbott  1976-1982     NaN      NaN   F  [1][23]  199x   \n",
       "3        George Abbott  1928-1958  Abbott   George   M     1887  199x   \n",
       "4          John Abbott  1937-1975  Abbott     John   M     1905  199x   \n",
       "...                ...        ...     ...      ...  ..      ...   ...   \n",
       "6638      David Zucker        NaN     NaN      NaN   M      [1]  199x   \n",
       "6639      Jerry Zucker        NaN     NaN      NaN   M      [1]  199x   \n",
       "6640     Daphne Zuniga        NaN     NaN      NaN   F      [1]  199x   \n",
       "6641  Frantisek Zvarik        NaN     NaN      NaN   M      [1]  199x   \n",
       "6642  Darrell Zwerling        NaN     NaN      NaN   M      [1]  199x   \n",
       "\n",
       "                                 type      orig pict  \\\n",
       "0                                 RU:       \\Am  NaN   \n",
       "1                          R:straight  comedian  \\Am   \n",
       "2                              R:sexy       \\Am  NaN   \n",
       "3              R:playwright, producer       \\Am  NaN   \n",
       "4     R:staring eyes, eccentric parts       \\Br  NaN   \n",
       "...                               ...       ...  ...   \n",
       "6638                              RU:       \\Un  NaN   \n",
       "6639                              RU:       \\Un  NaN   \n",
       "6640                              RU:       \\Un  NaN   \n",
       "6641                              RU:       \\Un  NaN   \n",
       "6642                              RU:       \\Un  NaN   \n",
       "\n",
       "                          notes  \n",
       "0                           NaN  \n",
       "1                           NaN  \n",
       "2     Cit(2) Mt(Robert deNiro;)  \n",
       "3                           NaN  \n",
       "4                           NaN  \n",
       "...                         ...  \n",
       "6638                     Cit(1)  \n",
       "6639             Cit(1) Also(D)  \n",
       "6640                     Cit(0)  \n",
       "6641                     Cit(1)  \n",
       "6642                     Cit(1)  \n",
       "\n",
       "[6643 rows x 11 columns]"
      ]
     },
     "execution_count": 107,
     "metadata": {},
     "output_type": "execute_result"
    }
   ],
   "source": [
    "actors_df"
   ]
  },
  {
   "cell_type": "markdown",
   "metadata": {
    "id": "hnbtdNV9ZZ9e"
   },
   "source": [
    "\n",
    "\n",
    "*   Missing data\n",
    "\n"
   ]
  },
  {
   "cell_type": "code",
   "execution_count": 108,
   "metadata": {
    "colab": {
     "base_uri": "https://localhost:8080/"
    },
    "id": "BmJ1ksPq7g5W",
    "outputId": "7610eca9-f0a7-45fb-87f2-4e0c4cf70cc3"
   },
   "outputs": [
    {
     "name": "stdout",
     "output_type": "stream",
     "text": [
      "Missing data:\n",
      " stage       2\n",
      "dow      1960\n",
      "birth    2018\n",
      "giv      2022\n",
      "gen       148\n",
      "dob       360\n",
      "dod       101\n",
      "type        8\n",
      "orig      109\n",
      "pict     5917\n",
      "notes    3474\n",
      "dtype: int64\n"
     ]
    }
   ],
   "source": [
    "# Check for missing data\n",
    "print(\"Missing data:\\n\", actors_df.isna().sum())"
   ]
  },
  {
   "cell_type": "markdown",
   "metadata": {
    "id": "XTtTApZocLWU"
   },
   "source": [
    "* Columns with high missing data like \"dow\" and \"birth\" cant be dropped as it leads to huge data loss.<br>\n",
    "* Columns like birth_year(dob) and death_year(dod) can be fixed by data transformation.<br>\n",
    "* It is better to leave few columns unchanged.\n"
   ]
  },
  {
   "cell_type": "markdown",
   "metadata": {
    "id": "zqu-MLSia3j5"
   },
   "source": [
    "\n",
    "\n",
    "*   Incosistent Data\n",
    "\n"
   ]
  },
  {
   "cell_type": "code",
   "execution_count": 109,
   "metadata": {
    "colab": {
     "base_uri": "https://localhost:8080/"
    },
    "id": "HboH6evaZrPE",
    "outputId": "81f21d05-f3d8-4547-9352-f1fccc7a3254"
   },
   "outputs": [
    {
     "name": "stdout",
     "output_type": "stream",
     "text": [
      "M           3950\n",
      "F           2487\n",
      "G             22\n",
      "A              8\n",
      "gen            4\n",
      "[6]            2\n",
      "Krekor         2\n",
      "1945           1\n",
      "1906           1\n",
      "N              1\n",
      "Martin         1\n",
      "\\M             1\n",
      "Tatania        1\n",
      "Anna           1\n",
      "DM             1\n",
      "Helen          1\n",
      "Crichton       1\n",
      "|              1\n",
      "Ff             1\n",
      "Mm             1\n",
      "M,F            1\n",
      "[1]            1\n",
      "1930           1\n",
      "Ruben M        1\n",
      "Daniel         1\n",
      "1903           1\n",
      "Woolrich       1\n",
      "Name: gen, dtype: int64\n"
     ]
    }
   ],
   "source": [
    "# Check for inconsistent data\n",
    "print(actors_df['gen'].value_counts())"
   ]
  },
  {
   "cell_type": "markdown",
   "metadata": {
    "id": "Y0-Wu1Pxa9Ho"
   },
   "source": [
    "* we can see \"gender\" column has values other than \"M\" or \"F\", lets fix this by creating new value \"Unknown\" and replace values other than \"M\" and \"F\" with \"Unknown\"."
   ]
  },
  {
   "cell_type": "code",
   "execution_count": 110,
   "metadata": {
    "id": "7lSHe5BEIquK"
   },
   "outputs": [],
   "source": [
    "# Replace values other than \"M\" and \"F\" with \"Unknown\"\n",
    "actors_df.loc[~actors_df[\"gen\"].isin([\"M\", \"F\"]), \"gen\"] = \"Unknown\""
   ]
  },
  {
   "cell_type": "code",
   "execution_count": 111,
   "metadata": {
    "colab": {
     "base_uri": "https://localhost:8080/"
    },
    "id": "eD0vsYMeI3Pq",
    "outputId": "b339f0e2-8ab5-4b7e-8ffc-58db20033829"
   },
   "outputs": [
    {
     "name": "stdout",
     "output_type": "stream",
     "text": [
      "M          3950\n",
      "F          2487\n",
      "Unknown     206\n",
      "Name: gen, dtype: int64\n"
     ]
    }
   ],
   "source": [
    "print(actors_df['gen'].value_counts())"
   ]
  },
  {
   "cell_type": "markdown",
   "metadata": {
    "id": "vRp4NfCkbs1K"
   },
   "source": [
    "\n",
    "\n",
    "\n",
    "\n",
    "*   Duplicate records\n",
    "\n",
    "\n",
    "\n"
   ]
  },
  {
   "cell_type": "code",
   "execution_count": 112,
   "metadata": {
    "colab": {
     "base_uri": "https://localhost:8080/"
    },
    "id": "xRd7HGTZbVAE",
    "outputId": "9b563b51-3fc5-47c8-d886-9ecfd9eb6862"
   },
   "outputs": [
    {
     "name": "stdout",
     "output_type": "stream",
     "text": [
      "4\n"
     ]
    }
   ],
   "source": [
    "# Check for duplicate rows\n",
    "print(actors_df.duplicated().sum())"
   ]
  },
  {
   "cell_type": "code",
   "execution_count": 113,
   "metadata": {
    "id": "LdPXpdFS7TXQ"
   },
   "outputs": [],
   "source": [
    "# drop duplicates\n",
    "actors_df = actors_df.drop_duplicates()"
   ]
  },
  {
   "cell_type": "code",
   "execution_count": 114,
   "metadata": {
    "colab": {
     "base_uri": "https://localhost:8080/"
    },
    "id": "y682LVLl00wj",
    "outputId": "2c402341-bf41-4ece-c0aa-7e3e4cf4aac0"
   },
   "outputs": [
    {
     "name": "stdout",
     "output_type": "stream",
     "text": [
      "<class 'pandas.core.frame.DataFrame'>\n",
      "Int64Index: 6639 entries, 0 to 6642\n",
      "Data columns (total 11 columns):\n",
      " #   Column  Non-Null Count  Dtype \n",
      "---  ------  --------------  ----- \n",
      " 0   stage   6637 non-null   object\n",
      " 1   dow     4679 non-null   object\n",
      " 2   birth   4621 non-null   object\n",
      " 3   giv     4617 non-null   object\n",
      " 4   gen     6639 non-null   object\n",
      " 5   dob     6279 non-null   object\n",
      " 6   dod     6538 non-null   object\n",
      " 7   type    6631 non-null   object\n",
      " 8   orig    6530 non-null   object\n",
      " 9   pict    723 non-null    object\n",
      " 10  notes   3166 non-null   object\n",
      "dtypes: object(11)\n",
      "memory usage: 622.4+ KB\n"
     ]
    }
   ],
   "source": [
    "# checking attribute types\n",
    "actors_df.info()"
   ]
  },
  {
   "cell_type": "markdown",
   "metadata": {
    "id": "VGnf0L_6vdZ3"
   },
   "source": [
    "\n",
    "\n",
    "---\n",
    "\n",
    "\n",
    "\n",
    "<h3>Data Transformation</h3>"
   ]
  },
  {
   "cell_type": "markdown",
   "metadata": {
    "id": "sH_AAN5OvjT7"
   },
   "source": [
    "*   We have year of birth and year of death as separate attributes, Using these we can create new coloumn \"age\" and add it to our dataset\n",
    "*   From above output we can see \"dob\" and \"dod\" are of type object, so first convert them to integer type.\n",
    "*   Before converting fill the missing values in those attributes with  -1.\n",
    "\n"
   ]
  },
  {
   "cell_type": "code",
   "execution_count": 116,
   "metadata": {
    "id": "z-Mb3JqqPFRf"
   },
   "outputs": [],
   "source": [
    "df = actors_df.copy()"
   ]
  },
  {
   "cell_type": "code",
   "execution_count": 117,
   "metadata": {
    "colab": {
     "base_uri": "https://localhost:8080/"
    },
    "id": "JkQL2WZfTpx4",
    "outputId": "60d1c267-790c-453a-c207-479f33cf70e5"
   },
   "outputs": [
    {
     "name": "stdout",
     "output_type": "stream",
     "text": [
      "[1960. 1895.   nan 1887. 1905. 1923. 1898. 1928. 1940. 1920. 1902. 1872.\n",
      " 1909. 1896. 1945. 1949. 1950. 1915. 1929. 1921. 1931. 1926. 1906. 1938.\n",
      " 1930. 1912. 1955. 1899. 1903. 1952. 1911. 1932. 1910. 1918. 1936. 1892.\n",
      " 1908. 1951. 1907. 1901. 1925. 1914. 1939. 1942. 1916. 1894. 1934. 1954.\n",
      " 1927. 1935. 1883. 1891. 1917. 1993. 1919. 1962. 1889. 1882. 1922. 1947.\n",
      " 1943. 1948. 1913. 1944. 1941. 1868. 1888. 1900. 1890. 1953. 1884. 1946.\n",
      " 1904. 1897. 1961. 1885. 1870. 1869. 1924. 1964. 1965. 1963. 1967. 1865.\n",
      " 1933. 1976. 1879. 1878. 1867. 1958. 1880. 1937. 1974. 1873. 1956. 1844.\n",
      " 1959. 1893. 1863. 1989. 1886. 1874. 1966. 1876. 1877. 1968. 1866. 1875.\n",
      " 1861. 1980. 1982. 1970. 1881. 1854. 1957. 1969. 1971. 1994. 1977. 1972.\n",
      " 1973. 1855. 1856. 1871. 1853. 1975. 1984. 1864. 1847. 1860. 1862. 1858.\n",
      " 1848. 1985. 1988. 1981.]\n"
     ]
    }
   ],
   "source": [
    "# Convert 'year of birth' column to numeric type, replacing non-numeric values with NaN\n",
    "df['dob'] = pd.to_numeric(df['dob'], errors='coerce')\n",
    "\n",
    "# Print unique values in 'year of birth' column\n",
    "print(df['dob'].unique())"
   ]
  },
  {
   "cell_type": "code",
   "execution_count": 118,
   "metadata": {
    "colab": {
     "base_uri": "https://localhost:8080/"
    },
    "id": "kpS7EIGeT6BV",
    "outputId": "4b27416c-eecc-4f4f-f542-7b5a7bd341b5"
   },
   "outputs": [
    {
     "name": "stdout",
     "output_type": "stream",
     "text": [
      "[   nan  1974.  1987.  1956.  1982.  1979.  1968.  1985.  1997.  1978.\n",
      "  1984.  1933.  1973.  1986.  1967.  1955.  1994.  1981.  1971.  1969.\n",
      "  1937.  1964.  1950.  1970.  1993.  1977.  1992.  1976.  1989.  1990.\n",
      "  1946.  1963.  1945.  1958.  1983.  1948.  1991.  1949.  1996.  1951.\n",
      "  1998.  1940.  1959.  1975.  1952.  1960.  1942.  1954.  1962.  1943.\n",
      "  1965.  1957.  1953.  1932.  1944.  1923.  1934.  1947.  1972.  1999.\n",
      "  1939.  1980.  1995.  1961.  1966.  1917.  1988.  1930.  1925.  1941.\n",
      "  1938.  1891.  1935.  1936.    85.  1931.  1926. 11989.  1920.  1929.\n",
      "  1852.  1928.  1922.  1906.  1903.]\n"
     ]
    }
   ],
   "source": [
    "# Convert 'year of birth' column to numeric type, replacing non-numeric values with NaN\n",
    "df['dod'] = pd.to_numeric(df['dod'], errors='coerce')\n",
    "\n",
    "# Print unique values in 'year of birth' column\n",
    "print(df['dod'].unique())"
   ]
  },
  {
   "cell_type": "code",
   "execution_count": 119,
   "metadata": {
    "id": "vrKJW602CT3Z"
   },
   "outputs": [],
   "source": [
    "# Calculate the age of the actors from their date of birth and date of death (if available)\n",
    "df['age'] = df['dod'] - df['dob']"
   ]
  },
  {
   "cell_type": "code",
   "execution_count": 120,
   "metadata": {
    "colab": {
     "base_uri": "https://localhost:8080/",
     "height": 423
    },
    "id": "nd7t-GjSUsWM",
    "outputId": "cd97b96d-5f27-4860-c3f6-d7abc7467a95"
   },
   "outputs": [
    {
     "data": {
      "text/html": [
       "\n",
       "  <div id=\"df-5daa907c-3d2b-4d89-b1c7-60112994466a\">\n",
       "    <div class=\"colab-df-container\">\n",
       "      <div>\n",
       "<style scoped>\n",
       "    .dataframe tbody tr th:only-of-type {\n",
       "        vertical-align: middle;\n",
       "    }\n",
       "\n",
       "    .dataframe tbody tr th {\n",
       "        vertical-align: top;\n",
       "    }\n",
       "\n",
       "    .dataframe thead th {\n",
       "        text-align: right;\n",
       "    }\n",
       "</style>\n",
       "<table border=\"1\" class=\"dataframe\">\n",
       "  <thead>\n",
       "    <tr style=\"text-align: right;\">\n",
       "      <th></th>\n",
       "      <th>stage</th>\n",
       "      <th>dow</th>\n",
       "      <th>birth</th>\n",
       "      <th>giv</th>\n",
       "      <th>gen</th>\n",
       "      <th>dob</th>\n",
       "      <th>dod</th>\n",
       "      <th>type</th>\n",
       "      <th>orig</th>\n",
       "      <th>pict</th>\n",
       "      <th>notes</th>\n",
       "      <th>age</th>\n",
       "    </tr>\n",
       "  </thead>\n",
       "  <tbody>\n",
       "    <tr>\n",
       "      <th>1</th>\n",
       "      <td>Bud Abbott</td>\n",
       "      <td>1939-1956</td>\n",
       "      <td>Abbott</td>\n",
       "      <td>William</td>\n",
       "      <td>M</td>\n",
       "      <td>1895.0</td>\n",
       "      <td>1974.0</td>\n",
       "      <td>R:straight</td>\n",
       "      <td>comedian</td>\n",
       "      <td>\\Am</td>\n",
       "      <td>NaN</td>\n",
       "      <td>79.0</td>\n",
       "    </tr>\n",
       "    <tr>\n",
       "      <th>7</th>\n",
       "      <td>Walter Abel</td>\n",
       "      <td>1935-1974</td>\n",
       "      <td>Abel</td>\n",
       "      <td>Walter</td>\n",
       "      <td>M</td>\n",
       "      <td>1898.0</td>\n",
       "      <td>1987.0</td>\n",
       "      <td>R:harrassed hero</td>\n",
       "      <td>\\Am</td>\n",
       "      <td>NaN</td>\n",
       "      <td>NaN</td>\n",
       "      <td>89.0</td>\n",
       "    </tr>\n",
       "    <tr>\n",
       "      <th>16</th>\n",
       "      <td>Rodolfo Acosta</td>\n",
       "      <td>1948-1967</td>\n",
       "      <td>Acosta</td>\n",
       "      <td>Rodolfo</td>\n",
       "      <td>M</td>\n",
       "      <td>1920.0</td>\n",
       "      <td>1974.0</td>\n",
       "      <td>R:cold-eyed</td>\n",
       "      <td>\\Am-Me</td>\n",
       "      <td>NaN</td>\n",
       "      <td>NaN</td>\n",
       "      <td>54.0</td>\n",
       "    </tr>\n",
       "    <tr>\n",
       "      <th>17</th>\n",
       "      <td>Eddie Acuff</td>\n",
       "      <td>1935-1947</td>\n",
       "      <td>Acuff</td>\n",
       "      <td>Eddie</td>\n",
       "      <td>M</td>\n",
       "      <td>1902.0</td>\n",
       "      <td>1956.0</td>\n",
       "      <td>R:supporting comedian</td>\n",
       "      <td>\\Am</td>\n",
       "      <td>NaN</td>\n",
       "      <td>NaN</td>\n",
       "      <td>54.0</td>\n",
       "    </tr>\n",
       "    <tr>\n",
       "      <th>18</th>\n",
       "      <td>Jean Adair</td>\n",
       "      <td>1922-1947</td>\n",
       "      <td>Adair</td>\n",
       "      <td>Jean</td>\n",
       "      <td>F</td>\n",
       "      <td>1872.0</td>\n",
       "      <td>1956.0</td>\n",
       "      <td>R:sweet aunt</td>\n",
       "      <td>\\Am</td>\n",
       "      <td>NaN</td>\n",
       "      <td>NaN</td>\n",
       "      <td>84.0</td>\n",
       "    </tr>\n",
       "    <tr>\n",
       "      <th>...</th>\n",
       "      <td>...</td>\n",
       "      <td>...</td>\n",
       "      <td>...</td>\n",
       "      <td>...</td>\n",
       "      <td>...</td>\n",
       "      <td>...</td>\n",
       "      <td>...</td>\n",
       "      <td>...</td>\n",
       "      <td>...</td>\n",
       "      <td>...</td>\n",
       "      <td>...</td>\n",
       "      <td>...</td>\n",
       "    </tr>\n",
       "    <tr>\n",
       "      <th>6605</th>\n",
       "      <td>Gig Young</td>\n",
       "      <td>1940-1978</td>\n",
       "      <td>Barr</td>\n",
       "      <td>Byron</td>\n",
       "      <td>M</td>\n",
       "      <td>1913.0</td>\n",
       "      <td>1978.0</td>\n",
       "      <td>R:pleasantly bemused air</td>\n",
       "      <td>\\Am</td>\n",
       "      <td>[34.244]</td>\n",
       "      <td>Also(AKA Bryant Fleming) Ww(Hitchcock)</td>\n",
       "      <td>65.0</td>\n",
       "    </tr>\n",
       "    <tr>\n",
       "      <th>6610</th>\n",
       "      <td>Robert Young</td>\n",
       "      <td>1931-1975</td>\n",
       "      <td>Young</td>\n",
       "      <td>Robert</td>\n",
       "      <td>M</td>\n",
       "      <td>1907.0</td>\n",
       "      <td>1998.0</td>\n",
       "      <td>R:amiable, dependable, father</td>\n",
       "      <td>\\Am</td>\n",
       "      <td>[4.164]</td>\n",
       "      <td>Ww(Hitchcock)</td>\n",
       "      <td>91.0</td>\n",
       "    </tr>\n",
       "    <tr>\n",
       "      <th>6611</th>\n",
       "      <td>Roland Young</td>\n",
       "      <td>1922-1953</td>\n",
       "      <td>Young</td>\n",
       "      <td>Roland</td>\n",
       "      <td>M</td>\n",
       "      <td>1887.0</td>\n",
       "      <td>1953.0</td>\n",
       "      <td>R:whimsical</td>\n",
       "      <td>\\Br</td>\n",
       "      <td>[4.1066]</td>\n",
       "      <td>NaN</td>\n",
       "      <td>66.0</td>\n",
       "    </tr>\n",
       "    <tr>\n",
       "      <th>6620</th>\n",
       "      <td>Blanche Yurka</td>\n",
       "      <td>1936-1957</td>\n",
       "      <td>Yurka</td>\n",
       "      <td>Blanche</td>\n",
       "      <td>F</td>\n",
       "      <td>1887.0</td>\n",
       "      <td>1974.0</td>\n",
       "      <td>R:lcharacter</td>\n",
       "      <td>\\Cz</td>\n",
       "      <td>NaN</td>\n",
       "      <td>NaN</td>\n",
       "      <td>87.0</td>\n",
       "    </tr>\n",
       "    <tr>\n",
       "      <th>6637</th>\n",
       "      <td>George Zucco</td>\n",
       "      <td>1930-1951</td>\n",
       "      <td>Zucco</td>\n",
       "      <td>George</td>\n",
       "      <td>M</td>\n",
       "      <td>1886.0</td>\n",
       "      <td>1960.0</td>\n",
       "      <td>R:sepulchral-toned</td>\n",
       "      <td>\\Br</td>\n",
       "      <td>NaN</td>\n",
       "      <td>NaN</td>\n",
       "      <td>74.0</td>\n",
       "    </tr>\n",
       "  </tbody>\n",
       "</table>\n",
       "<p>1870 rows × 12 columns</p>\n",
       "</div>\n",
       "      <button class=\"colab-df-convert\" onclick=\"convertToInteractive('df-5daa907c-3d2b-4d89-b1c7-60112994466a')\"\n",
       "              title=\"Convert this dataframe to an interactive table.\"\n",
       "              style=\"display:none;\">\n",
       "        \n",
       "  <svg xmlns=\"http://www.w3.org/2000/svg\" height=\"24px\"viewBox=\"0 0 24 24\"\n",
       "       width=\"24px\">\n",
       "    <path d=\"M0 0h24v24H0V0z\" fill=\"none\"/>\n",
       "    <path d=\"M18.56 5.44l.94 2.06.94-2.06 2.06-.94-2.06-.94-.94-2.06-.94 2.06-2.06.94zm-11 1L8.5 8.5l.94-2.06 2.06-.94-2.06-.94L8.5 2.5l-.94 2.06-2.06.94zm10 10l.94 2.06.94-2.06 2.06-.94-2.06-.94-.94-2.06-.94 2.06-2.06.94z\"/><path d=\"M17.41 7.96l-1.37-1.37c-.4-.4-.92-.59-1.43-.59-.52 0-1.04.2-1.43.59L10.3 9.45l-7.72 7.72c-.78.78-.78 2.05 0 2.83L4 21.41c.39.39.9.59 1.41.59.51 0 1.02-.2 1.41-.59l7.78-7.78 2.81-2.81c.8-.78.8-2.07 0-2.86zM5.41 20L4 18.59l7.72-7.72 1.47 1.35L5.41 20z\"/>\n",
       "  </svg>\n",
       "      </button>\n",
       "      \n",
       "  <style>\n",
       "    .colab-df-container {\n",
       "      display:flex;\n",
       "      flex-wrap:wrap;\n",
       "      gap: 12px;\n",
       "    }\n",
       "\n",
       "    .colab-df-convert {\n",
       "      background-color: #E8F0FE;\n",
       "      border: none;\n",
       "      border-radius: 50%;\n",
       "      cursor: pointer;\n",
       "      display: none;\n",
       "      fill: #1967D2;\n",
       "      height: 32px;\n",
       "      padding: 0 0 0 0;\n",
       "      width: 32px;\n",
       "    }\n",
       "\n",
       "    .colab-df-convert:hover {\n",
       "      background-color: #E2EBFA;\n",
       "      box-shadow: 0px 1px 2px rgba(60, 64, 67, 0.3), 0px 1px 3px 1px rgba(60, 64, 67, 0.15);\n",
       "      fill: #174EA6;\n",
       "    }\n",
       "\n",
       "    [theme=dark] .colab-df-convert {\n",
       "      background-color: #3B4455;\n",
       "      fill: #D2E3FC;\n",
       "    }\n",
       "\n",
       "    [theme=dark] .colab-df-convert:hover {\n",
       "      background-color: #434B5C;\n",
       "      box-shadow: 0px 1px 3px 1px rgba(0, 0, 0, 0.15);\n",
       "      filter: drop-shadow(0px 1px 2px rgba(0, 0, 0, 0.3));\n",
       "      fill: #FFFFFF;\n",
       "    }\n",
       "  </style>\n",
       "\n",
       "      <script>\n",
       "        const buttonEl =\n",
       "          document.querySelector('#df-5daa907c-3d2b-4d89-b1c7-60112994466a button.colab-df-convert');\n",
       "        buttonEl.style.display =\n",
       "          google.colab.kernel.accessAllowed ? 'block' : 'none';\n",
       "\n",
       "        async function convertToInteractive(key) {\n",
       "          const element = document.querySelector('#df-5daa907c-3d2b-4d89-b1c7-60112994466a');\n",
       "          const dataTable =\n",
       "            await google.colab.kernel.invokeFunction('convertToInteractive',\n",
       "                                                     [key], {});\n",
       "          if (!dataTable) return;\n",
       "\n",
       "          const docLinkHtml = 'Like what you see? Visit the ' +\n",
       "            '<a target=\"_blank\" href=https://colab.research.google.com/notebooks/data_table.ipynb>data table notebook</a>'\n",
       "            + ' to learn more about interactive tables.';\n",
       "          element.innerHTML = '';\n",
       "          dataTable['output_type'] = 'display_data';\n",
       "          await google.colab.output.renderOutput(dataTable, element);\n",
       "          const docLink = document.createElement('div');\n",
       "          docLink.innerHTML = docLinkHtml;\n",
       "          element.appendChild(docLink);\n",
       "        }\n",
       "      </script>\n",
       "    </div>\n",
       "  </div>\n",
       "  "
      ],
      "text/plain": [
       "               stage        dow   birth      giv gen     dob     dod  \\\n",
       "1         Bud Abbott  1939-1956  Abbott  William   M  1895.0  1974.0   \n",
       "7        Walter Abel  1935-1974    Abel   Walter   M  1898.0  1987.0   \n",
       "16    Rodolfo Acosta  1948-1967  Acosta  Rodolfo   M  1920.0  1974.0   \n",
       "17       Eddie Acuff  1935-1947   Acuff    Eddie   M  1902.0  1956.0   \n",
       "18        Jean Adair  1922-1947   Adair     Jean   F  1872.0  1956.0   \n",
       "...              ...        ...     ...      ...  ..     ...     ...   \n",
       "6605       Gig Young  1940-1978    Barr    Byron   M  1913.0  1978.0   \n",
       "6610    Robert Young  1931-1975   Young   Robert   M  1907.0  1998.0   \n",
       "6611    Roland Young  1922-1953   Young   Roland   M  1887.0  1953.0   \n",
       "6620   Blanche Yurka  1936-1957   Yurka  Blanche   F  1887.0  1974.0   \n",
       "6637    George Zucco  1930-1951   Zucco   George   M  1886.0  1960.0   \n",
       "\n",
       "                               type      orig      pict  \\\n",
       "1                        R:straight  comedian       \\Am   \n",
       "7                  R:harrassed hero       \\Am       NaN   \n",
       "16                      R:cold-eyed    \\Am-Me       NaN   \n",
       "17            R:supporting comedian       \\Am       NaN   \n",
       "18                     R:sweet aunt       \\Am       NaN   \n",
       "...                             ...       ...       ...   \n",
       "6605       R:pleasantly bemused air       \\Am  [34.244]   \n",
       "6610  R:amiable, dependable, father       \\Am   [4.164]   \n",
       "6611                    R:whimsical       \\Br  [4.1066]   \n",
       "6620                   R:lcharacter       \\Cz       NaN   \n",
       "6637             R:sepulchral-toned       \\Br       NaN   \n",
       "\n",
       "                                       notes   age  \n",
       "1                                        NaN  79.0  \n",
       "7                                        NaN  89.0  \n",
       "16                                       NaN  54.0  \n",
       "17                                       NaN  54.0  \n",
       "18                                       NaN  84.0  \n",
       "...                                      ...   ...  \n",
       "6605  Also(AKA Bryant Fleming) Ww(Hitchcock)  65.0  \n",
       "6610                           Ww(Hitchcock)  91.0  \n",
       "6611                                     NaN  66.0  \n",
       "6620                                     NaN  87.0  \n",
       "6637                                     NaN  74.0  \n",
       "\n",
       "[1870 rows x 12 columns]"
      ]
     },
     "execution_count": 120,
     "metadata": {},
     "output_type": "execute_result"
    }
   ],
   "source": [
    "# Drop rows with NaN values in 'age' column\n",
    "df = df.dropna(subset=['age'])\n",
    "df"
   ]
  },
  {
   "cell_type": "markdown",
   "metadata": {
    "id": "67XNHgdrglH5"
   },
   "source": [
    "* We successfully cleaned the year and age attributes\n",
    "\n",
    "---\n",
    "\n"
   ]
  },
  {
   "cell_type": "markdown",
   "metadata": {
    "id": "30k5NBT5iE55"
   },
   "source": [
    "<h3>Data Visualisation</h3>\n",
    "\n",
    "\n",
    "*   <h4>Countplot (barplot with counts) for \"gender\" attribute</h4>\n",
    "\n"
   ]
  },
  {
   "cell_type": "code",
   "execution_count": 133,
   "metadata": {
    "colab": {
     "base_uri": "https://localhost:8080/",
     "height": 295
    },
    "id": "Lv3_Y5fzYPiQ",
    "outputId": "c3903870-14cb-46af-95a2-c8a357f03eda"
   },
   "outputs": [
    {
     "data": {
      "image/png": "[encoded data removed]",
      "text/plain": [
       "<Figure size 432x288 with 1 Axes>"
      ]
     },
     "metadata": {
      "needs_background": "light"
     },
     "output_type": "display_data"
    }
   ],
   "source": [
    "# create a countplot for \"gender\"\n",
    "sns.countplot(x=\"gen\", data=actors_df)\n",
    "\n",
    "plt.xlabel(\"Gender\")\n",
    "plt.ylabel(\"Count\")\n",
    "plt.title(\"Count Plot of Gender\")\n",
    "plt.show()"
   ]
  },
  {
   "cell_type": "markdown",
   "metadata": {
    "id": "O5PEXgWIj31I"
   },
   "source": [
    "\n",
    "<br>\n",
    "\n",
    "*   <h4>Visualising \"ages\" using Box plot (outliers are removed)</h4>\n",
    "\n",
    "\n"
   ]
  },
  {
   "cell_type": "code",
   "execution_count": 134,
   "metadata": {
    "colab": {
     "base_uri": "https://localhost:8080/",
     "height": 295
    },
    "id": "qyCJK2isLllO",
    "outputId": "fe5974e5-7b0d-40dc-b842-4b7226a94167"
   },
   "outputs": [
    {
     "data": {
      "image/png": "[encoded data removed]",
      "text/plain": [
       "<Figure size 432x288 with 1 Axes>"
      ]
     },
     "metadata": {
      "needs_background": "light"
     },
     "output_type": "display_data"
    }
   ],
   "source": [
    "# Calculate IQR and upper/lower bounds\n",
    "q1 = df['age'].quantile(0.25)\n",
    "q3 = df['age'].quantile(0.75)\n",
    "iqr = q3 - q1\n",
    "upper_bound = q3 + 1.5*iqr\n",
    "lower_bound = q1 - 1.5*iqr\n",
    "\n",
    "# Remove outliers\n",
    "df = df[(df['age'] >= lower_bound) & (df['age'] <= upper_bound)]\n",
    "\n",
    "# Create a box plot of 'age' column\n",
    "plt.boxplot(df['age'])\n",
    "\n",
    "plt.xlabel('Age')\n",
    "plt.ylabel('Years')\n",
    "plt.title('Distribution of Actor Ages (without outliers)')\n",
    "plt.show()"
   ]
  },
  {
   "cell_type": "markdown",
   "metadata": {
    "id": "tDxtsOEsmc1O"
   },
   "source": [
    "\n",
    "\n",
    "<br>\n",
    "\n",
    "\n",
    "*   <h4>Histogram showing no .of actors in different age ranges</h4>\n",
    "\n",
    "\n"
   ]
  },
  {
   "cell_type": "code",
   "execution_count": 135,
   "metadata": {
    "colab": {
     "base_uri": "https://localhost:8080/",
     "height": 295
    },
    "id": "UHg5jouMmQLl",
    "outputId": "7a8ce2e1-7c01-4510-a284-d65eda8e18db"
   },
   "outputs": [
    {
     "data": {
      "image/png": "[encoded data removed]",
      "text/plain": [
       "<Figure size 432x288 with 1 Axes>"
      ]
     },
     "metadata": {
      "needs_background": "light"
     },
     "output_type": "display_data"
    }
   ],
   "source": [
    "# Create a histogram of age\n",
    "plt.hist(df[\"age\"], bins=20)\n",
    "\n",
    "plt.xlabel(\"Age\")\n",
    "plt.ylabel(\"Frequency\")\n",
    "plt.title(\"Distribution of Age\")\n",
    "plt.show()"
   ]
  },
  {
   "cell_type": "markdown",
   "metadata": {
    "id": "zlsgxSqSxV0q"
   },
   "source": [
    "<br>\n",
    "\n",
    "\n",
    "*   <h4>Violin plot between \"gender\" and \"age\"</h4>\n",
    "\n"
   ]
  },
  {
   "cell_type": "code",
   "execution_count": 87,
   "metadata": {
    "colab": {
     "base_uri": "https://localhost:8080/",
     "height": 295
    },
    "id": "jX_hJz0vXbDp",
    "outputId": "dcb751af-e2cc-4a47-c67b-361ebdd45286"
   },
   "outputs": [
    {
     "data": {
      "image/png": "[encoded data removed]",
      "text/plain": [
       "<Figure size 432x288 with 1 Axes>"
      ]
     },
     "metadata": {
      "needs_background": "light"
     },
     "output_type": "display_data"
    }
   ],
   "source": [
    "# filter out rows with NaN values in \"age\" column\n",
    "actors_df_cleaned = df.dropna(subset=[\"age\"])\n",
    "\n",
    "# create a violin plot between \"gender\" and \"age\"\n",
    "sns.violinplot(x=\"gen\", y=\"age\", data=actors_df_cleaned)\n",
    "plt.xlabel(\"Gender\")\n",
    "plt.ylabel(\"Age\")\n",
    "plt.title(\"Violin Plot of Gender vs Age\")\n",
    "plt.show()\n"
   ]
  },
  {
   "cell_type": "markdown",
   "metadata": {
    "id": "8mrD0dQzxuc_"
   },
   "source": [
    "<br>\n",
    "\n",
    "\n",
    "*   <h4>Visualising no.of years active among Males and Females.</h4>\n",
    "\n",
    "    To do this first we need to perform data selection by selecting \"dow\" attribute,<br> It has values in the format 1936-1959(YYYY-YYYY),<br> So extract the start_year and end_year and compute the no. of years acted,<br> then plot avg of years active for each gender.\n"
   ]
  },
  {
   "cell_type": "code",
   "execution_count": 163,
   "metadata": {
    "colab": {
     "base_uri": "https://localhost:8080/",
     "height": 281
    },
    "id": "RdpDwJG_v7Ic",
    "outputId": "a94de495-d439-4d5b-e35c-f2a8da1add03"
   },
   "outputs": [
    {
     "data": {
      "image/png": "[encoded data removed]",
      "text/plain": [
       "<Figure size 432x288 with 1 Axes>"
      ]
     },
     "metadata": {
      "needs_background": "light"
     },
     "output_type": "display_data"
    }
   ],
   "source": [
    "# Convert the years of acting range into start year and end year columns\n",
    "actors_df[['start_year', 'end_year']] = actors_df['dow'].str.split('-', expand=True)\n",
    "\n",
    "# Convert the columns to numeric type\n",
    "actors_df[['start_year', 'end_year']] = actors_df[['start_year', 'end_year']].apply(pd.to_numeric)\n",
    "\n",
    "# Calculate the number of years of acting career\n",
    "actors_df['years_of_acting_career'] = actors_df['end_year'] - actors_df['start_year']\n",
    "\n",
    "# calculate the mean number of years acted for each gender\n",
    "male_years_acting = actors_df[actors_df['gen'] == 'M']['years_of_acting_career'].mean()\n",
    "female_years_acting = actors_df[actors_df['gen'] == 'F']['years_of_acting_career'].mean()\n",
    "\n",
    "# create a bar plot\n",
    "plt.bar(['Male', 'Female'], [male_years_acting, female_years_acting], color=['blue', 'red'])\n",
    "plt.title('Average Number of Years Acted by Gender')\n",
    "plt.ylabel('Years Acted')\n",
    "plt.show()\n"
   ]
  }
 ],
 "metadata": {
  "colab": {
   "provenance": []
  },
  "kernelspec": {
   "display_name": "Python 3 (ipykernel)",
   "language": "python",
   "name": "python3"
  },
  "language_info": {
   "codemirror_mode": {
    "name": "ipython",
    "version": 3
   },
   "file_extension": ".py",
   "mimetype": "text/x-python",
   "name": "python",
   "nbconvert_exporter": "python",
   "pygments_lexer": "ipython3",
   "version": "3.10.1"
  }
 },
 "nbformat": 4,
 "nbformat_minor": 1
}
